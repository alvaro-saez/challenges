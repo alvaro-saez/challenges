{
 "cells": [
  {
   "cell_type": "code",
   "execution_count": 1,
   "id": "4125ec47",
   "metadata": {},
   "outputs": [],
   "source": [
    "import pandas as pd\n",
    "import requests\n",
    "import bs4\n",
    "import numpy as np\n",
    "import re\n",
    "import lxml"
   ]
  },
  {
   "cell_type": "code",
   "execution_count": 5,
   "id": "46c4430b",
   "metadata": {},
   "outputs": [],
   "source": [
    "def html_get(url):\n",
    "    response = requests.get(url)\n",
    "    return response.content"
   ]
  },
  {
   "cell_type": "code",
   "execution_count": 7,
   "id": "96b7917e",
   "metadata": {},
   "outputs": [],
   "source": [
    "#url = \"https://en.wikipedia.org/wiki/List_of_Nobel_laureates\"\n",
    "#output = html_get(url)\n",
    "#output"
   ]
  },
  {
   "cell_type": "code",
   "execution_count": null,
   "id": "3d976590",
   "metadata": {},
   "outputs": [],
   "source": [
    "def html_parsing(request):\n",
    "    return bs4.BeautifulSoup(request,\"html.parser\").find_all(\"table\",{\"class\":\"wikitable sortable\"})[0]"
   ]
  }
 ],
 "metadata": {
  "kernelspec": {
   "display_name": "Python [conda env:ironhack]",
   "language": "python",
   "name": "conda-env-ironhack-py"
  },
  "language_info": {
   "codemirror_mode": {
    "name": "ipython",
    "version": 3
   },
   "file_extension": ".py",
   "mimetype": "text/x-python",
   "name": "python",
   "nbconvert_exporter": "python",
   "pygments_lexer": "ipython3",
   "version": "3.7.11"
  }
 },
 "nbformat": 4,
 "nbformat_minor": 5
}
