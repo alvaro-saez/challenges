{
 "cells": [
  {
   "cell_type": "code",
   "execution_count": 31,
   "id": "0cee69c2",
   "metadata": {},
   "outputs": [],
   "source": [
    "import itertools as it\n",
    "from itertools import combinations\n",
    "import numpy as np\n"
   ]
  },
  {
   "cell_type": "code",
   "execution_count": 32,
   "id": "6ab5bcb0",
   "metadata": {},
   "outputs": [
    {
     "name": "stdout",
     "output_type": "stream",
     "text": [
      "[(2, 10, 20), (2, 10, 15), (2, 20, 15), (10, 20, 15)]\n"
     ]
    }
   ],
   "source": [
    "iterable = [2, 10, 20, 15]\n",
    "r =3\n",
    "hola = list(it.combinations(iterable, r))\n",
    "print(hola)"
   ]
  },
  {
   "cell_type": "code",
   "execution_count": 33,
   "id": "71d86e14",
   "metadata": {},
   "outputs": [
    {
     "name": "stdout",
     "output_type": "stream",
     "text": [
      "[[ 2 10 20]\n",
      " [ 2 10 15]\n",
      " [ 2 20 15]\n",
      " [10 20 15]]\n"
     ]
    }
   ],
   "source": [
    "arr = np.array(hola)\n",
    "print(arr)"
   ]
  },
  {
   "cell_type": "code",
   "execution_count": 47,
   "id": "7a3c3510",
   "metadata": {},
   "outputs": [
    {
     "name": "stdout",
     "output_type": "stream",
     "text": [
      "(2, 10, 20, 2, 10, 20)\n",
      "(2, 10, 20, 2, 10, 20, 2, 10, 20, 2, 10, 20, 2, 10, 20, 2, 10, 20, 2, 10, 20, 2, 10, 20, 2, 10, 20, 2, 10, 20)\n",
      "(2, 10, 20, 2, 10, 20, 2, 10, 20, 2, 10, 20, 2, 10, 20, 2, 10, 20, 2, 10, 20, 2, 10, 20, 2, 10, 20, 2, 10, 20, 2, 10, 20, 2, 10, 20, 2, 10, 20, 2, 10, 20, 2, 10, 20, 2, 10, 20, 2, 10, 20, 2, 10, 20, 2, 10, 20, 2, 10, 20)\n",
      "(2, 10, 15, 2, 10, 15)\n",
      "(2, 10, 15, 2, 10, 15, 2, 10, 15, 2, 10, 15, 2, 10, 15, 2, 10, 15, 2, 10, 15, 2, 10, 15, 2, 10, 15, 2, 10, 15)\n",
      "(2, 10, 15, 2, 10, 15, 2, 10, 15, 2, 10, 15, 2, 10, 15, 2, 10, 15, 2, 10, 15, 2, 10, 15, 2, 10, 15, 2, 10, 15, 2, 10, 15, 2, 10, 15, 2, 10, 15, 2, 10, 15, 2, 10, 15)\n",
      "(2, 20, 15, 2, 20, 15)\n",
      "(2, 20, 15, 2, 20, 15, 2, 20, 15, 2, 20, 15, 2, 20, 15, 2, 20, 15, 2, 20, 15, 2, 20, 15, 2, 20, 15, 2, 20, 15, 2, 20, 15, 2, 20, 15, 2, 20, 15, 2, 20, 15, 2, 20, 15, 2, 20, 15, 2, 20, 15, 2, 20, 15, 2, 20, 15, 2, 20, 15)\n",
      "(2, 20, 15, 2, 20, 15, 2, 20, 15, 2, 20, 15, 2, 20, 15, 2, 20, 15, 2, 20, 15, 2, 20, 15, 2, 20, 15, 2, 20, 15, 2, 20, 15, 2, 20, 15, 2, 20, 15, 2, 20, 15, 2, 20, 15)\n",
      "(10, 20, 15, 10, 20, 15, 10, 20, 15, 10, 20, 15, 10, 20, 15, 10, 20, 15, 10, 20, 15, 10, 20, 15, 10, 20, 15, 10, 20, 15)\n",
      "(10, 20, 15, 10, 20, 15, 10, 20, 15, 10, 20, 15, 10, 20, 15, 10, 20, 15, 10, 20, 15, 10, 20, 15, 10, 20, 15, 10, 20, 15, 10, 20, 15, 10, 20, 15, 10, 20, 15, 10, 20, 15, 10, 20, 15, 10, 20, 15, 10, 20, 15, 10, 20, 15, 10, 20, 15, 10, 20, 15)\n",
      "(10, 20, 15, 10, 20, 15, 10, 20, 15, 10, 20, 15, 10, 20, 15, 10, 20, 15, 10, 20, 15, 10, 20, 15, 10, 20, 15, 10, 20, 15, 10, 20, 15, 10, 20, 15, 10, 20, 15, 10, 20, 15, 10, 20, 15)\n"
     ]
    }
   ],
   "source": [
    "new_lst=1\n",
    "lst=[]\n",
    "for i in hola:\n",
    "    lst_2=[]\n",
    "    for e in range(len(i)):\n",
    "        new_var=i*i[e]\n",
    "        print(new_var)\n",
    "    "
   ]
  },
  {
   "cell_type": "code",
   "execution_count": 30,
   "id": "33bb896a",
   "metadata": {},
   "outputs": [],
   "source": []
  },
  {
   "cell_type": "code",
   "execution_count": null,
   "id": "8282c2c7",
   "metadata": {},
   "outputs": [],
   "source": []
  },
  {
   "cell_type": "code",
   "execution_count": null,
   "id": "5484f914",
   "metadata": {},
   "outputs": [],
   "source": []
  }
 ],
 "metadata": {
  "kernelspec": {
   "display_name": "Python [conda env:ironhack]",
   "language": "python",
   "name": "conda-env-ironhack-py"
  },
  "language_info": {
   "codemirror_mode": {
    "name": "ipython",
    "version": 3
   },
   "file_extension": ".py",
   "mimetype": "text/x-python",
   "name": "python",
   "nbconvert_exporter": "python",
   "pygments_lexer": "ipython3",
   "version": "3.7.11"
  }
 },
 "nbformat": 4,
 "nbformat_minor": 5
}
