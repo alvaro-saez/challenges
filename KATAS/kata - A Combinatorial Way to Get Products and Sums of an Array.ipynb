{
 "cells": [
  {
   "cell_type": "markdown",
   "id": "c03175aa",
   "metadata": {},
   "source": [
    "In this kata we have to do products and sums, using the values of an array with an uncertain amount of integers(positive and/or negative). The numbers in the array occurs once. All of them are different.\n",
    "\n",
    "We need a function eval_prod_sum(), that receives four arguments: (1), (2), (3) and (4)\n",
    "\n",
    "(1) - A list or array of integers (zi > 0 and/or zi < 0) of uncertain length n arr = [z1, z2, z3, .....,zn]\n",
    "\n",
    "(2) - An integer num_fact, is the number of factors to form the different products. If the array has of the form described above and numfact = 3, so the different products will be: z1.z2.z3, ........, z1.z2.zn, z2.z3.zn. .....\n",
    "\n",
    "(3) - An integer num_add, will define the number of products that will be added\n",
    "to get a result. For example if num_add = 2, our different results will be: z1.z2.z3 + z1.z2.zn, z1.z2.z3 + z2.z3.zn, .....\n",
    "\n",
    "(4) - An integer, maxVal, we should count:\n",
    "\n",
    "the amount of results that are below max_val, this is count1\n",
    "\n",
    "the amount of results that are equal max_val, this is count2\n",
    "\n",
    "the amount of results tha are higher than max_val, this is count3\n",
    "\n",
    "The result will be a list of dictionaries with the following structure:\n",
    "\n",
    "\n",
    "[{\"Below than max_val\": count1}, {\"Equals to max_val\": count2}, {\"Higher than max_val\": count3}]\n",
    "Let's see some cases:\n",
    "\n",
    "lst = [2, 10, 20, 15]\n",
    "num_fact = 3\n",
    "num_add = 2\n",
    "max_val = 8\n",
    "eval_prod_sum(lst, num_fact, num_add, max_val) == [{'Below than 8': 0}, {'Equals to 8': 0}, {'Higher than 8': 6}]\n",
    "\n",
    "///\n",
    " Factors              Products    \n",
    "\n",
    "(2, 10, 20)              400\n",
    "\n",
    "(2, 10, 15)              300\n",
    "\n",
    "(2, 20, 15)              600\n",
    "\n",
    "(10, 20, 15)            3000\n",
    "\n",
    "\n",
    "Addens               Sums (Final Result)\n",
    " \n",
    "(300, 400)               700  (more than max_val (8))\n",
    "\n",
    "(300, 600)               900   (higher than 8)\n",
    "\n",
    "(300, 3000)             3300   ( \"     \"    \")\n",
    "\n",
    "(400, 600)              1000   ( \"     \"    \" )\n",
    "\n",
    "(400, 3000)             3400   ( \"     \"    \" )\n",
    "\n",
    "(600, 3000)             3600   ( \"     \"     \" )  six values, all of them higher than 8\n",
    "The function eval_prod_sum() should reject as invalid :\n",
    "\n",
    "the array in the entry has a string or a float, or the numbers num_fact, num_add , max_val are negative integers (strings, floats, negative integers or 0), will output the message \"Error. Unexpected entries\"\n",
    "\n",
    "if num_fact is higher than the length of the array, we have an obvious impossibility. eval_prod_sum() should output \"Error. Number of factors too high\"\n",
    "\n",
    "on the other hand, if num_add > combinations(length array, num_fact) should output \"Error. Number of addens too high\"\n",
    "\n",
    "lst = [2, 10, '20', 15]\n",
    "num_fact = 3\n",
    "num_add = 2\n",
    "max_val = 8\n",
    "eval_prod_sum(lst, num_fact, num_add, max_val) == \"Error. Unexpected entries\"\n",
    "\n",
    "lst = [2, 10, 20, 15]\n",
    "num_fact = 3\n",
    "num_add = 2.0\n",
    "max_val = '8'\n",
    "eval_prod_sum(lst, num_fact, num_add, max_val) == \"Error. Unexpected entries\"\n",
    "Enjoy it!"
   ]
  },
  {
   "cell_type": "code",
   "execution_count": 10,
   "id": "6b8aab40",
   "metadata": {},
   "outputs": [],
   "source": [
    "import itertools as it\n",
    "from itertools import combinations\n",
    "import numpy as np"
   ]
  },
  {
   "cell_type": "code",
   "execution_count": 2,
   "id": "0a7dd062",
   "metadata": {},
   "outputs": [
    {
     "ename": "SyntaxError",
     "evalue": "invalid syntax (Temp/ipykernel_21540/831822294.py, line 3)",
     "output_type": "error",
     "traceback": [
      "\u001b[1;36m  File \u001b[1;32m\"C:\\Users\\ALVARO~1\\AppData\\Local\\Temp/ipykernel_21540/831822294.py\"\u001b[1;36m, line \u001b[1;32m3\u001b[0m\n\u001b[1;33m    products =\u001b[0m\n\u001b[1;37m               ^\u001b[0m\n\u001b[1;31mSyntaxError\u001b[0m\u001b[1;31m:\u001b[0m invalid syntax\n"
     ]
    }
   ],
   "source": [
    "def eval_prod_sum(arr, num_fact, num_add, max_val):\n",
    "    factors = list(it.combinations(arr, num_fact))\n",
    "    #array = np.array(lst).reshape()\n",
    "    products = [ i*i*i for i in factors for x in i]\n",
    "    addens\n",
    "    results=\n",
    "    count1 = \n",
    "    count2 = \n",
    "    count3 = \n",
    "    \n",
    "    if arr \n",
    "    \n",
    "    return [{\"Below than max_val: \": count1}, {\"Equals to max_val: \": count2}, {\"Larger than max_val: \": count3}]"
   ]
  },
  {
   "cell_type": "code",
   "execution_count": 7,
   "id": "214a8196",
   "metadata": {},
   "outputs": [
    {
     "name": "stdout",
     "output_type": "stream",
     "text": [
      "[(2, 10, 20), (2, 10, 15), (2, 20, 15), (10, 20, 15)]\n"
     ]
    }
   ],
   "source": [
    "iterable = [2, 10, 20, 15]\n",
    "r =3\n",
    "x = list(combinations(iterable, r))\n",
    "print(x)"
   ]
  },
  {
   "cell_type": "code",
   "execution_count": null,
   "id": "626be5e9",
   "metadata": {},
   "outputs": [],
   "source": []
  }
 ],
 "metadata": {
  "kernelspec": {
   "display_name": "Python [conda env:ironhack]",
   "language": "python",
   "name": "conda-env-ironhack-py"
  },
  "language_info": {
   "codemirror_mode": {
    "name": "ipython",
    "version": 3
   },
   "file_extension": ".py",
   "mimetype": "text/x-python",
   "name": "python",
   "nbconvert_exporter": "python",
   "pygments_lexer": "ipython3",
   "version": "3.7.11"
  }
 },
 "nbformat": 4,
 "nbformat_minor": 5
}
