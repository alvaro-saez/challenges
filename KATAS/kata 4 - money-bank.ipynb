{
 "cells": [
  {
   "cell_type": "code",
   "execution_count": 100,
   "id": "713bd70d",
   "metadata": {},
   "outputs": [],
   "source": [
    "#creamos una clase\n",
    "class User(object):\n",
    "    def __init__(self, name, balance, checking_account):\n",
    "        self.name = name\n",
    "        self.balance = balance\n",
    "        self.checking_account = checking_account\n",
    "\n",
    "#atributos:\n",
    "#name --> str (joe)\n",
    "#balance --> int (70)\n",
    "#checking_account --> bool (true or false)\n",
    "\n",
    "\n",
    "#definir funciones ad-hoc\n",
    "    def withdraw(self,amount): #quita dinero al balance\n",
    "        if self.balance < amount:\n",
    "            raise ValueError(\"not enought balance\")\n",
    "        else:   \n",
    "            self.balance -= amount\n",
    "            return f\"{self.name} has {self.balance}.\"\n",
    "    \n",
    "    def check(self, name2, amount): #le quita la misma cantidad al otro usuario (name2)\n",
    "        if name2.balance < amount:\n",
    "            raise ValueError(\"not enought balance\")\n",
    "        elif self.checking_account == False or name2.checking_account == False:\n",
    "            raise ValueError(\"not enought balance\")\n",
    "        else:\n",
    "            self.balance += amount\n",
    "            name2.balance -= amount\n",
    "            return f\"{self.name} has {self.balance} and {name2.name} has {name2.balance}.\"\n",
    "    \n",
    "    def add_cash(self,amount): #añade dinero al balance\n",
    "        self.balance += amount\n",
    "        return f\"{self.name} has {self.balance}.\"\n",
    "        "
   ]
  },
  {
   "cell_type": "code",
   "execution_count": 102,
   "id": "9939d209",
   "metadata": {},
   "outputs": [],
   "source": [
    "#creamos los objetos de la clase:\n",
    "Jeff = User('Jeff', 70, True)\n",
    "Joe = User('Joe', 70, True)"
   ]
  },
  {
   "cell_type": "code",
   "execution_count": 103,
   "id": "2c432fea",
   "metadata": {},
   "outputs": [
    {
     "data": {
      "text/plain": [
       "'Jeff has 68.'"
      ]
     },
     "execution_count": 103,
     "metadata": {},
     "output_type": "execute_result"
    }
   ],
   "source": [
    "Jeff.withdraw(2)"
   ]
  },
  {
   "cell_type": "code",
   "execution_count": 104,
   "id": "3d664d77",
   "metadata": {},
   "outputs": [
    {
     "data": {
      "text/plain": [
       "'Jeff has 88.'"
      ]
     },
     "execution_count": 104,
     "metadata": {},
     "output_type": "execute_result"
    }
   ],
   "source": [
    "Jeff.add_cash(20)"
   ]
  },
  {
   "cell_type": "code",
   "execution_count": 105,
   "id": "96ebadfd",
   "metadata": {},
   "outputs": [
    {
     "data": {
      "text/plain": [
       "'Joe has 120 and Jeff has 38.'"
      ]
     },
     "execution_count": 105,
     "metadata": {},
     "output_type": "execute_result"
    }
   ],
   "source": [
    "Joe.check(Jeff, 50)"
   ]
  },
  {
   "cell_type": "code",
   "execution_count": null,
   "id": "a62d3f00",
   "metadata": {},
   "outputs": [],
   "source": []
  },
  {
   "cell_type": "code",
   "execution_count": null,
   "id": "e16856c0",
   "metadata": {},
   "outputs": [],
   "source": []
  }
 ],
 "metadata": {
  "kernelspec": {
   "display_name": "Python [conda env:ironhack]",
   "language": "python",
   "name": "conda-env-ironhack-py"
  },
  "language_info": {
   "codemirror_mode": {
    "name": "ipython",
    "version": 3
   },
   "file_extension": ".py",
   "mimetype": "text/x-python",
   "name": "python",
   "nbconvert_exporter": "python",
   "pygments_lexer": "ipython3",
   "version": "3.7.11"
  }
 },
 "nbformat": 4,
 "nbformat_minor": 5
}
