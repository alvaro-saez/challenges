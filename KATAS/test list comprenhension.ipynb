{
 "cells": [
  {
   "cell_type": "code",
   "execution_count": 31,
   "id": "bdf7f1da",
   "metadata": {},
   "outputs": [],
   "source": [
    "import itertools as it\n",
    "from itertools import combinations\n",
    "import numpy as np\n"
   ]
  },
  {
   "cell_type": "code",
   "execution_count": 32,
   "id": "ffcdc06f",
   "metadata": {},
   "outputs": [
    {
     "name": "stdout",
     "output_type": "stream",
     "text": [
      "[(2, 10, 20), (2, 10, 15), (2, 20, 15), (10, 20, 15)]\n"
     ]
    }
   ],
   "source": [
    "iterable = [2, 10, 20, 15]\n",
    "r =3\n",
    "hola = list(it.combinations(iterable, r))\n",
    "print(hola)"
   ]
  },
  {
   "cell_type": "code",
   "execution_count": 33,
   "id": "6f329953",
   "metadata": {},
   "outputs": [
    {
     "name": "stdout",
     "output_type": "stream",
     "text": [
      "[[ 2 10 20]\n",
      " [ 2 10 15]\n",
      " [ 2 20 15]\n",
      " [10 20 15]]\n"
     ]
    }
   ],
   "source": [
    "arr = np.array(hola)\n",
    "print(arr)"
   ]
  },
  {
   "cell_type": "code",
   "execution_count": 80,
   "id": "92edffa4",
   "metadata": {},
   "outputs": [
    {
     "name": "stdout",
     "output_type": "stream",
     "text": [
      "[400, 300, 600, 3000]\n"
     ]
    }
   ],
   "source": [
    "lst=[]\n",
    "for i in hola:\n",
    "    var1=i[0]*i[1]*i[2]\n",
    "    lst.append(var1)\n",
    "print(lst)\n",
    "    "
   ]
  },
  {
   "cell_type": "code",
   "execution_count": 81,
   "id": "4d4a0e63",
   "metadata": {},
   "outputs": [
    {
     "name": "stdout",
     "output_type": "stream",
     "text": [
      "[400, 300, 600, 3000]\n"
     ]
    }
   ],
   "source": [
    "\n",
    "lst=[]\n",
    "for i in hola:\n",
    "    var1=1\n",
    "    for e in range (len(i)): \n",
    "        var1=var1*i[e]\n",
    "    lst.append(var1)\n",
    "print(lst)"
   ]
  },
  {
   "cell_type": "code",
   "execution_count": 103,
   "id": "39b5fc35",
   "metadata": {},
   "outputs": [
    {
     "data": {
      "text/plain": [
       "[400, 300, 600, 3000]"
      ]
     },
     "execution_count": 103,
     "metadata": {},
     "output_type": "execute_result"
    }
   ],
   "source": [
    "from functools import reduce\n",
    "lst2= []\n",
    "for i in hola:\n",
    "    lst2.append(reduce(lambda x, y: x*y,i))\n",
    "lst2"
   ]
  },
  {
   "cell_type": "code",
   "execution_count": 132,
   "id": "7d6d052b",
   "metadata": {},
   "outputs": [
    {
     "data": {
      "text/plain": [
       "[400, 300, 600, 3000]"
      ]
     },
     "execution_count": 132,
     "metadata": {},
     "output_type": "execute_result"
    }
   ],
   "source": [
    "lst3 = [reduce(lambda x, y: x*y,i) for i in hola]\n",
    "lst3"
   ]
  },
  {
   "cell_type": "code",
   "execution_count": 133,
   "id": "6214dcff",
   "metadata": {},
   "outputs": [
    {
     "data": {
      "text/plain": [
       "[(400, 300), (400, 600), (400, 3000), (300, 600), (300, 3000), (600, 3000)]"
      ]
     },
     "execution_count": 133,
     "metadata": {},
     "output_type": "execute_result"
    }
   ],
   "source": [
    "sums = list(it.combinations(lst3, 2))\n",
    "sums"
   ]
  },
  {
   "cell_type": "code",
   "execution_count": 149,
   "id": "d12c9b4b",
   "metadata": {},
   "outputs": [
    {
     "data": {
      "text/plain": [
       "[700, 1000, 3400, 900, 3300, 3600]"
      ]
     },
     "execution_count": 149,
     "metadata": {},
     "output_type": "execute_result"
    }
   ],
   "source": [
    "addens = [reduce(lambda x, y: x+y,i) for i in sums]\n",
    "addens"
   ]
  },
  {
   "cell_type": "code",
   "execution_count": 151,
   "id": "81059bc2",
   "metadata": {},
   "outputs": [
    {
     "data": {
      "text/plain": [
       "[700, 1000, 3400, 900, 3300, 3600]"
      ]
     },
     "execution_count": 151,
     "metadata": {},
     "output_type": "execute_result"
    }
   ],
   "source": [
    "addens = [sum(i) for i in sums]\n",
    "addens"
   ]
  },
  {
   "cell_type": "code",
   "execution_count": 135,
   "id": "89b49938",
   "metadata": {},
   "outputs": [
    {
     "name": "stdout",
     "output_type": "stream",
     "text": [
      "0 0 6\n"
     ]
    }
   ],
   "source": [
    "count1 = 0\n",
    "count2 = 0\n",
    "count3 = 0\n",
    "max_val = 8\n",
    "for i in addens:\n",
    "    if i < max_val:\n",
    "        count1 += 1\n",
    "    elif i == max_val:\n",
    "        count2 += 1\n",
    "    else:\n",
    "        count3 += 1\n",
    "print(count1,count2,count3)"
   ]
  },
  {
   "cell_type": "code",
   "execution_count": 146,
   "id": "c7ea8674",
   "metadata": {},
   "outputs": [
    {
     "name": "stdout",
     "output_type": "stream",
     "text": [
      "Error. Unexpected entries\n"
     ]
    }
   ],
   "source": [
    "lst7 = [2, 10, '20', 15]\n",
    "for i in lst7:\n",
    "    if isinstance(i, str) or isinstance(i, float):\n",
    "        print(\"Error. Unexpected entries\")\n"
   ]
  },
  {
   "cell_type": "code",
   "execution_count": 156,
   "id": "7f7d9da9",
   "metadata": {},
   "outputs": [
    {
     "ename": "TypeError",
     "evalue": "'int' object is not iterable",
     "output_type": "error",
     "traceback": [
      "\u001b[1;31m---------------------------------------------------------------------------\u001b[0m",
      "\u001b[1;31mTypeError\u001b[0m                                 Traceback (most recent call last)",
      "\u001b[1;32mC:\\Users\\ALVARO~1\\AppData\\Local\\Temp/ipykernel_8976/911520776.py\u001b[0m in \u001b[0;36m<module>\u001b[1;34m\u001b[0m\n\u001b[0;32m      4\u001b[0m \u001b[0mnum_add\u001b[0m \u001b[1;33m=\u001b[0m \u001b[1;36m38\u001b[0m\u001b[1;33m\u001b[0m\u001b[1;33m\u001b[0m\u001b[0m\n\u001b[0;32m      5\u001b[0m \u001b[0mmax_val\u001b[0m \u001b[1;33m=\u001b[0m \u001b[1;36m8\u001b[0m\u001b[1;33m\u001b[0m\u001b[1;33m\u001b[0m\u001b[0m\n\u001b[1;32m----> 6\u001b[1;33m \u001b[0mv\u001b[0m \u001b[1;33m=\u001b[0m \u001b[0mlist\u001b[0m\u001b[1;33m(\u001b[0m\u001b[0mit\u001b[0m\u001b[1;33m.\u001b[0m\u001b[0mcombinations\u001b[0m\u001b[1;33m(\u001b[0m\u001b[0mlist\u001b[0m\u001b[1;33m(\u001b[0m\u001b[0mlen\u001b[0m\u001b[1;33m(\u001b[0m\u001b[0mlst\u001b[0m\u001b[1;33m)\u001b[0m\u001b[1;33m)\u001b[0m\u001b[1;33m,\u001b[0m \u001b[0mnum_fact\u001b[0m\u001b[1;33m)\u001b[0m\u001b[1;33m)\u001b[0m\u001b[1;33m\u001b[0m\u001b[1;33m\u001b[0m\u001b[0m\n\u001b[0m\u001b[0;32m      7\u001b[0m \u001b[0mv\u001b[0m\u001b[1;33m\u001b[0m\u001b[1;33m\u001b[0m\u001b[0m\n",
      "\u001b[1;31mTypeError\u001b[0m: 'int' object is not iterable"
     ]
    }
   ],
   "source": [
    "lst = [2, 10, 20, 15]\n",
    "\n",
    "num_fact = 3\n",
    "num_add = 38\n",
    "max_val = 8\n",
    "v = list(it.combinations(list(len(lst)), num_fact))\n",
    "v\n"
   ]
  },
  {
   "cell_type": "code",
   "execution_count": null,
   "id": "14917a6a",
   "metadata": {},
   "outputs": [],
   "source": []
  }
 ],
 "metadata": {
  "kernelspec": {
   "display_name": "Python [conda env:ironhack]",
   "language": "python",
   "name": "conda-env-ironhack-py"
  },
  "language_info": {
   "codemirror_mode": {
    "name": "ipython",
    "version": 3
   },
   "file_extension": ".py",
   "mimetype": "text/x-python",
   "name": "python",
   "nbconvert_exporter": "python",
   "pygments_lexer": "ipython3",
   "version": "3.7.11"
  }
 },
 "nbformat": 4,
 "nbformat_minor": 5
}
