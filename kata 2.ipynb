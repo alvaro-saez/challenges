{
 "cells": [
  {
   "cell_type": "code",
   "execution_count": 26,
   "id": "f3a2dbe3",
   "metadata": {},
   "outputs": [],
   "source": [
    "import numpy as np"
   ]
  },
  {
   "cell_type": "code",
   "execution_count": 27,
   "id": "9eb50b49",
   "metadata": {},
   "outputs": [],
   "source": [
    "sum_or_product=[10, 41, 8, 16, 20, 36, 9, 13, 20]\n"
   ]
  },
  {
   "cell_type": "code",
   "execution_count": 28,
   "id": "0b5252f3",
   "metadata": {},
   "outputs": [],
   "source": [
    "sum_or_product.sort()"
   ]
  },
  {
   "cell_type": "code",
   "execution_count": 29,
   "id": "e86d8ef4",
   "metadata": {},
   "outputs": [
    {
     "name": "stdout",
     "output_type": "stream",
     "text": [
      "[8, 9, 10, 13, 16, 20, 20, 36, 41]\n"
     ]
    }
   ],
   "source": [
    "print(sum_or_product)"
   ]
  },
  {
   "cell_type": "code",
   "execution_count": 39,
   "id": "d0b3948b",
   "metadata": {},
   "outputs": [],
   "source": [
    "def sum_or_product(array, n):\n",
    "    array.sort() #ordenamos la lista\n",
    "    sum_or_products_new_list_lower =1 #creamos contador para multiplicar\n",
    "    sum_or_products_new_list_higher =0 #creamos contador para sumar\n",
    "    for i in range(0,n): #lower\n",
    "        sum_or_products_new_list_lower=sum_or_products_new_list_lower*array[i] #multiplicamos en cada iteracción\n",
    "    print(sum_or_products_new_list_lower)\n",
    "    for i in range(len(array)-n,len(array)): #higher\n",
    "        sum_or_products_new_list_higher+=array[i] #sumamos en cada iteracción\n",
    "    print(sum_or_products_new_list_higher)\n",
    "    if sum_or_products_new_list_higher > sum_or_products_new_list_lower:\n",
    "        return \"sum\"\n",
    "    elif sum_or_products_new_list_lower > sum_or_products_new_list_higher:\n",
    "        return \"product\"\n",
    "    else:\n",
    "        return \"same\""
   ]
  },
  {
   "cell_type": "code",
   "execution_count": 40,
   "id": "1c1466c3",
   "metadata": {},
   "outputs": [
    {
     "name": "stdout",
     "output_type": "stream",
     "text": [
      "60\n",
      "60\n"
     ]
    },
    {
     "data": {
      "text/plain": [
       "'same'"
      ]
     },
     "execution_count": 40,
     "metadata": {},
     "output_type": "execute_result"
    }
   ],
   "source": [
    "sum_or_product([10, 20, 3, 30, 5, 4], 3)"
   ]
  },
  {
   "cell_type": "code",
   "execution_count": 37,
   "id": "2c4089ed",
   "metadata": {},
   "outputs": [],
   "source": [
    "x = [10, 20, 3, 30, 5, 4]\n",
    "x.sort()"
   ]
  },
  {
   "cell_type": "code",
   "execution_count": 38,
   "id": "f498e3a4",
   "metadata": {},
   "outputs": [
    {
     "name": "stdout",
     "output_type": "stream",
     "text": [
      "[3, 4, 5, 10, 20, 30]\n"
     ]
    }
   ],
   "source": [
    "print(x)"
   ]
  },
  {
   "cell_type": "code",
   "execution_count": null,
   "id": "b3900700",
   "metadata": {},
   "outputs": [],
   "source": []
  }
 ],
 "metadata": {
  "kernelspec": {
   "display_name": "Python [conda env:ironhack]",
   "language": "python",
   "name": "conda-env-ironhack-py"
  },
  "language_info": {
   "codemirror_mode": {
    "name": "ipython",
    "version": 3
   },
   "file_extension": ".py",
   "mimetype": "text/x-python",
   "name": "python",
   "nbconvert_exporter": "python",
   "pygments_lexer": "ipython3",
   "version": "3.7.11"
  }
 },
 "nbformat": 4,
 "nbformat_minor": 5
}
