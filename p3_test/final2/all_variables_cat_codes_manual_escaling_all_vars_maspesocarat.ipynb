{
 "cells": [
  {
   "cell_type": "code",
   "execution_count": 1,
   "id": "e0ee059d",
   "metadata": {},
   "outputs": [],
   "source": [
    "import pandas as pd\n",
    "import numpy as np\n",
    "from sqlalchemy import create_engine"
   ]
  },
  {
   "cell_type": "code",
   "execution_count": 2,
   "id": "210bd755",
   "metadata": {},
   "outputs": [],
   "source": [
    "#funcion delete\n",
    "def delete_column(df, column_name):\n",
    "    del df[column_name]\n",
    "    return \"column deleted\""
   ]
  },
  {
   "cell_type": "markdown",
   "id": "93e80bda",
   "metadata": {},
   "source": [
    "## Import train DF"
   ]
  },
  {
   "cell_type": "code",
   "execution_count": 3,
   "id": "e5b93580",
   "metadata": {},
   "outputs": [],
   "source": [
    "def conection(database):\n",
    "    connection = create_engine(\"sqlite:///\"+ database).connect()\n",
    "    return connection\n",
    "con = conection(\"../files/diamonds_train.db\")"
   ]
  },
  {
   "cell_type": "code",
   "execution_count": 4,
   "id": "68293780",
   "metadata": {},
   "outputs": [],
   "source": [
    "def query_diamond(query):\n",
    "    df_diamonds_full_train = pd.read_sql_query(query,con)\n",
    "    return df_diamonds_full_train\n",
    "\n",
    "query_diamonds_full_train = '''\n",
    "SELECT \n",
    "    d_prop.index_id,\n",
    "    \n",
    "    d_tran.carat,\n",
    "    d_cut.cut,\n",
    "    d_col.color,\n",
    "    d_clar.clarity,\n",
    "\n",
    "    d_dim.depth,\n",
    "    d_dim.'table',\n",
    "    d_dim.x,\n",
    "    d_dim.y,\n",
    "    d_dim.z,\n",
    "    \n",
    "    d_city.city,\n",
    "\n",
    "    d_tran.price\n",
    "    \n",
    "FROM diamonds_properties as d_prop\n",
    "    INNER JOIN diamonds_clarity as d_clar ON d_prop.clarity_id = d_clar.clarity_id\n",
    "    INNER JOIN diamonds_color as d_col ON d_prop.color_id = d_col.color_id\n",
    "    INNER JOIN diamonds_cut as d_cut ON d_prop.cut_id = d_cut.cut_id\n",
    "    INNER JOIN diamonds_dimensions as d_dim ON d_prop.index_id = d_dim.index_id\n",
    "    INNER JOIN diamonds_transactional as d_tran ON d_prop.index_id = d_tran.index_id\n",
    "    INNER JOIN diamonds_city as d_city ON d_tran.city_id = d_city.city_id\n",
    "'''\n",
    "\n",
    "df_diamonds_train = query_diamond(query_diamonds_full_train)"
   ]
  },
  {
   "cell_type": "code",
   "execution_count": 5,
   "id": "bd12c7ac",
   "metadata": {},
   "outputs": [
    {
     "data": {
      "text/html": [
       "<div>\n",
       "<style scoped>\n",
       "    .dataframe tbody tr th:only-of-type {\n",
       "        vertical-align: middle;\n",
       "    }\n",
       "\n",
       "    .dataframe tbody tr th {\n",
       "        vertical-align: top;\n",
       "    }\n",
       "\n",
       "    .dataframe thead th {\n",
       "        text-align: right;\n",
       "    }\n",
       "</style>\n",
       "<table border=\"1\" class=\"dataframe\">\n",
       "  <thead>\n",
       "    <tr style=\"text-align: right;\">\n",
       "      <th></th>\n",
       "      <th>index_id</th>\n",
       "      <th>carat</th>\n",
       "      <th>cut</th>\n",
       "      <th>color</th>\n",
       "      <th>clarity</th>\n",
       "      <th>depth</th>\n",
       "      <th>table</th>\n",
       "      <th>x</th>\n",
       "      <th>y</th>\n",
       "      <th>z</th>\n",
       "      <th>city</th>\n",
       "      <th>price</th>\n",
       "    </tr>\n",
       "  </thead>\n",
       "  <tbody>\n",
       "    <tr>\n",
       "      <th>0</th>\n",
       "      <td>5feceb66ffc86f38d952786c6d696c79c2dbc239dd4e91...</td>\n",
       "      <td>1.21</td>\n",
       "      <td>Premium</td>\n",
       "      <td>J</td>\n",
       "      <td>VS2</td>\n",
       "      <td>62.4</td>\n",
       "      <td>58.0</td>\n",
       "      <td>6.83</td>\n",
       "      <td>6.79</td>\n",
       "      <td>4.25</td>\n",
       "      <td>Dubai</td>\n",
       "      <td>4268</td>\n",
       "    </tr>\n",
       "    <tr>\n",
       "      <th>1</th>\n",
       "      <td>6b86b273ff34fce19d6b804eff5a3f5747ada4eaa22f1d...</td>\n",
       "      <td>0.32</td>\n",
       "      <td>Very Good</td>\n",
       "      <td>H</td>\n",
       "      <td>VS2</td>\n",
       "      <td>63.0</td>\n",
       "      <td>57.0</td>\n",
       "      <td>4.35</td>\n",
       "      <td>4.38</td>\n",
       "      <td>2.75</td>\n",
       "      <td>Kimberly</td>\n",
       "      <td>505</td>\n",
       "    </tr>\n",
       "    <tr>\n",
       "      <th>2</th>\n",
       "      <td>d4735e3a265e16eee03f59718b9b5d03019c07d8b6c51f...</td>\n",
       "      <td>0.71</td>\n",
       "      <td>Fair</td>\n",
       "      <td>G</td>\n",
       "      <td>VS1</td>\n",
       "      <td>65.5</td>\n",
       "      <td>55.0</td>\n",
       "      <td>5.62</td>\n",
       "      <td>5.53</td>\n",
       "      <td>3.65</td>\n",
       "      <td>Las Vegas</td>\n",
       "      <td>2686</td>\n",
       "    </tr>\n",
       "    <tr>\n",
       "      <th>3</th>\n",
       "      <td>4e07408562bedb8b60ce05c1decfe3ad16b72230967de0...</td>\n",
       "      <td>0.41</td>\n",
       "      <td>Good</td>\n",
       "      <td>D</td>\n",
       "      <td>SI1</td>\n",
       "      <td>63.8</td>\n",
       "      <td>56.0</td>\n",
       "      <td>4.68</td>\n",
       "      <td>4.72</td>\n",
       "      <td>3.00</td>\n",
       "      <td>Kimberly</td>\n",
       "      <td>738</td>\n",
       "    </tr>\n",
       "    <tr>\n",
       "      <th>4</th>\n",
       "      <td>4b227777d4dd1fc61c6f884f48641d02b4d121d3fd328c...</td>\n",
       "      <td>1.02</td>\n",
       "      <td>Ideal</td>\n",
       "      <td>G</td>\n",
       "      <td>SI1</td>\n",
       "      <td>60.5</td>\n",
       "      <td>59.0</td>\n",
       "      <td>6.55</td>\n",
       "      <td>6.51</td>\n",
       "      <td>3.95</td>\n",
       "      <td>Dubai</td>\n",
       "      <td>4882</td>\n",
       "    </tr>\n",
       "  </tbody>\n",
       "</table>\n",
       "</div>"
      ],
      "text/plain": [
       "                                            index_id  carat        cut color  \\\n",
       "0  5feceb66ffc86f38d952786c6d696c79c2dbc239dd4e91...   1.21    Premium     J   \n",
       "1  6b86b273ff34fce19d6b804eff5a3f5747ada4eaa22f1d...   0.32  Very Good     H   \n",
       "2  d4735e3a265e16eee03f59718b9b5d03019c07d8b6c51f...   0.71       Fair     G   \n",
       "3  4e07408562bedb8b60ce05c1decfe3ad16b72230967de0...   0.41       Good     D   \n",
       "4  4b227777d4dd1fc61c6f884f48641d02b4d121d3fd328c...   1.02      Ideal     G   \n",
       "\n",
       "  clarity  depth  table     x     y     z       city  price  \n",
       "0     VS2   62.4   58.0  6.83  6.79  4.25      Dubai   4268  \n",
       "1     VS2   63.0   57.0  4.35  4.38  2.75   Kimberly    505  \n",
       "2     VS1   65.5   55.0  5.62  5.53  3.65  Las Vegas   2686  \n",
       "3     SI1   63.8   56.0  4.68  4.72  3.00   Kimberly    738  \n",
       "4     SI1   60.5   59.0  6.55  6.51  3.95      Dubai   4882  "
      ]
     },
     "execution_count": 5,
     "metadata": {},
     "output_type": "execute_result"
    }
   ],
   "source": [
    "df_diamonds_train.head()"
   ]
  },
  {
   "cell_type": "code",
   "execution_count": 6,
   "id": "926bc8e3",
   "metadata": {},
   "outputs": [
    {
     "name": "stdout",
     "output_type": "stream",
     "text": [
      "<class 'pandas.core.frame.DataFrame'>\n",
      "RangeIndex: 40455 entries, 0 to 40454\n",
      "Data columns (total 12 columns):\n",
      " #   Column    Non-Null Count  Dtype  \n",
      "---  ------    --------------  -----  \n",
      " 0   index_id  40455 non-null  object \n",
      " 1   carat     40455 non-null  float64\n",
      " 2   cut       40455 non-null  object \n",
      " 3   color     40455 non-null  object \n",
      " 4   clarity   40455 non-null  object \n",
      " 5   depth     40455 non-null  float64\n",
      " 6   table     40455 non-null  float64\n",
      " 7   x         40455 non-null  float64\n",
      " 8   y         40455 non-null  float64\n",
      " 9   z         40455 non-null  float64\n",
      " 10  city      40455 non-null  object \n",
      " 11  price     40455 non-null  int64  \n",
      "dtypes: float64(6), int64(1), object(5)\n",
      "memory usage: 3.7+ MB\n"
     ]
    }
   ],
   "source": [
    "df_diamonds_train.info()"
   ]
  },
  {
   "cell_type": "code",
   "execution_count": 7,
   "id": "1a9b9c77",
   "metadata": {},
   "outputs": [],
   "source": [
    "#df_diamonds_train[df_diamonds_train[\"x\"]<1].index.tolist()"
   ]
  },
  {
   "cell_type": "code",
   "execution_count": 8,
   "id": "29a2371e",
   "metadata": {},
   "outputs": [],
   "source": [
    "#df_diamonds_train[df_diamonds_train[\"z\"]<1].index.tolist()"
   ]
  },
  {
   "cell_type": "code",
   "execution_count": 9,
   "id": "30a6d1f4",
   "metadata": {},
   "outputs": [],
   "source": [
    "#df_diamonds_train.drop(df_diamonds_train[df_diamonds_train[\"x\"]<1].index,axis=0,inplace=True)\n",
    "#df_diamonds_train.drop(df_diamonds_train[df_diamonds_train[\"z\"]<1].index,axis=0,inplace=True)"
   ]
  },
  {
   "cell_type": "code",
   "execution_count": 10,
   "id": "017ca7f3",
   "metadata": {},
   "outputs": [],
   "source": [
    "#df_diamonds_train[df_diamonds_train[\"y\"]<1].index.tolist()"
   ]
  },
  {
   "cell_type": "code",
   "execution_count": 11,
   "id": "d4fff2c7",
   "metadata": {},
   "outputs": [],
   "source": [
    "#df_diamonds_train[\"z\"].min()"
   ]
  },
  {
   "cell_type": "code",
   "execution_count": 12,
   "id": "ad4da009",
   "metadata": {},
   "outputs": [],
   "source": [
    "#import plotly.express as px\n",
    "#fig_inic = px.box(df_diamonds_train[\"price\"])\n",
    "#fig_inic.show()"
   ]
  },
  {
   "cell_type": "markdown",
   "id": "21ec3eff",
   "metadata": {},
   "source": [
    "### quitar outliers"
   ]
  },
  {
   "cell_type": "code",
   "execution_count": 13,
   "id": "8c6edf35",
   "metadata": {},
   "outputs": [],
   "source": [
    "#df_diamonds_train[df_diamonds_train[\"carat\"]>=4]"
   ]
  },
  {
   "cell_type": "code",
   "execution_count": 14,
   "id": "5ba7f60b",
   "metadata": {},
   "outputs": [],
   "source": [
    "#df_diamonds_train.drop(df_diamonds_train[df_diamonds_train[\"carat\"]>=4].index,axis=0,inplace=True)"
   ]
  },
  {
   "cell_type": "code",
   "execution_count": 15,
   "id": "ee1c6f88",
   "metadata": {},
   "outputs": [],
   "source": [
    "#df_diamonds_train= df_diamonds_train.reset_index(drop=True)\n",
    "#df_diamonds_train.head()"
   ]
  },
  {
   "cell_type": "markdown",
   "id": "995e1602",
   "metadata": {},
   "source": [
    "## Import test DF"
   ]
  },
  {
   "cell_type": "code",
   "execution_count": 16,
   "id": "0d5da1d5",
   "metadata": {},
   "outputs": [],
   "source": [
    "def import_csv_diamonds(location):\n",
    "    df_diamonds_test = pd.read_csv(location)\n",
    "    return df_diamonds_test\n",
    "\n",
    "df_diamonds_test = import_csv_diamonds(\"../files/diamonds_test.csv\")"
   ]
  },
  {
   "cell_type": "code",
   "execution_count": 17,
   "id": "fb820107",
   "metadata": {},
   "outputs": [
    {
     "data": {
      "text/html": [
       "<div>\n",
       "<style scoped>\n",
       "    .dataframe tbody tr th:only-of-type {\n",
       "        vertical-align: middle;\n",
       "    }\n",
       "\n",
       "    .dataframe tbody tr th {\n",
       "        vertical-align: top;\n",
       "    }\n",
       "\n",
       "    .dataframe thead th {\n",
       "        text-align: right;\n",
       "    }\n",
       "</style>\n",
       "<table border=\"1\" class=\"dataframe\">\n",
       "  <thead>\n",
       "    <tr style=\"text-align: right;\">\n",
       "      <th></th>\n",
       "      <th>id</th>\n",
       "      <th>carat</th>\n",
       "      <th>cut</th>\n",
       "      <th>color</th>\n",
       "      <th>clarity</th>\n",
       "      <th>depth</th>\n",
       "      <th>table</th>\n",
       "      <th>x</th>\n",
       "      <th>y</th>\n",
       "      <th>z</th>\n",
       "      <th>city</th>\n",
       "    </tr>\n",
       "  </thead>\n",
       "  <tbody>\n",
       "    <tr>\n",
       "      <th>0</th>\n",
       "      <td>0</td>\n",
       "      <td>0.79</td>\n",
       "      <td>Very Good</td>\n",
       "      <td>F</td>\n",
       "      <td>SI1</td>\n",
       "      <td>62.7</td>\n",
       "      <td>60.0</td>\n",
       "      <td>5.82</td>\n",
       "      <td>5.89</td>\n",
       "      <td>3.67</td>\n",
       "      <td>Amsterdam</td>\n",
       "    </tr>\n",
       "    <tr>\n",
       "      <th>1</th>\n",
       "      <td>1</td>\n",
       "      <td>1.20</td>\n",
       "      <td>Ideal</td>\n",
       "      <td>J</td>\n",
       "      <td>VS1</td>\n",
       "      <td>61.0</td>\n",
       "      <td>57.0</td>\n",
       "      <td>6.81</td>\n",
       "      <td>6.89</td>\n",
       "      <td>4.18</td>\n",
       "      <td>Surat</td>\n",
       "    </tr>\n",
       "    <tr>\n",
       "      <th>2</th>\n",
       "      <td>2</td>\n",
       "      <td>1.57</td>\n",
       "      <td>Premium</td>\n",
       "      <td>H</td>\n",
       "      <td>SI1</td>\n",
       "      <td>62.2</td>\n",
       "      <td>61.0</td>\n",
       "      <td>7.38</td>\n",
       "      <td>7.32</td>\n",
       "      <td>4.57</td>\n",
       "      <td>Kimberly</td>\n",
       "    </tr>\n",
       "    <tr>\n",
       "      <th>3</th>\n",
       "      <td>3</td>\n",
       "      <td>0.90</td>\n",
       "      <td>Very Good</td>\n",
       "      <td>F</td>\n",
       "      <td>SI1</td>\n",
       "      <td>63.8</td>\n",
       "      <td>54.0</td>\n",
       "      <td>6.09</td>\n",
       "      <td>6.13</td>\n",
       "      <td>3.90</td>\n",
       "      <td>Kimberly</td>\n",
       "    </tr>\n",
       "    <tr>\n",
       "      <th>4</th>\n",
       "      <td>4</td>\n",
       "      <td>0.50</td>\n",
       "      <td>Very Good</td>\n",
       "      <td>F</td>\n",
       "      <td>VS1</td>\n",
       "      <td>62.9</td>\n",
       "      <td>58.0</td>\n",
       "      <td>5.05</td>\n",
       "      <td>5.09</td>\n",
       "      <td>3.19</td>\n",
       "      <td>Amsterdam</td>\n",
       "    </tr>\n",
       "  </tbody>\n",
       "</table>\n",
       "</div>"
      ],
      "text/plain": [
       "   id  carat        cut color clarity  depth  table     x     y     z  \\\n",
       "0   0   0.79  Very Good     F     SI1   62.7   60.0  5.82  5.89  3.67   \n",
       "1   1   1.20      Ideal     J     VS1   61.0   57.0  6.81  6.89  4.18   \n",
       "2   2   1.57    Premium     H     SI1   62.2   61.0  7.38  7.32  4.57   \n",
       "3   3   0.90  Very Good     F     SI1   63.8   54.0  6.09  6.13  3.90   \n",
       "4   4   0.50  Very Good     F     VS1   62.9   58.0  5.05  5.09  3.19   \n",
       "\n",
       "        city  \n",
       "0  Amsterdam  \n",
       "1      Surat  \n",
       "2   Kimberly  \n",
       "3   Kimberly  \n",
       "4  Amsterdam  "
      ]
     },
     "execution_count": 17,
     "metadata": {},
     "output_type": "execute_result"
    }
   ],
   "source": [
    "df_diamonds_test.head()"
   ]
  },
  {
   "cell_type": "code",
   "execution_count": 18,
   "id": "ade577d8",
   "metadata": {},
   "outputs": [
    {
     "name": "stdout",
     "output_type": "stream",
     "text": [
      "<class 'pandas.core.frame.DataFrame'>\n",
      "RangeIndex: 13485 entries, 0 to 13484\n",
      "Data columns (total 11 columns):\n",
      " #   Column   Non-Null Count  Dtype  \n",
      "---  ------   --------------  -----  \n",
      " 0   id       13485 non-null  int64  \n",
      " 1   carat    13485 non-null  float64\n",
      " 2   cut      13485 non-null  object \n",
      " 3   color    13485 non-null  object \n",
      " 4   clarity  13485 non-null  object \n",
      " 5   depth    13485 non-null  float64\n",
      " 6   table    13485 non-null  float64\n",
      " 7   x        13485 non-null  float64\n",
      " 8   y        13485 non-null  float64\n",
      " 9   z        13485 non-null  float64\n",
      " 10  city     13485 non-null  object \n",
      "dtypes: float64(6), int64(1), object(4)\n",
      "memory usage: 1.1+ MB\n"
     ]
    }
   ],
   "source": [
    "df_diamonds_test.info()"
   ]
  },
  {
   "cell_type": "code",
   "execution_count": null,
   "id": "aee49780",
   "metadata": {},
   "outputs": [],
   "source": []
  },
  {
   "cell_type": "markdown",
   "id": "a20d9df6",
   "metadata": {},
   "source": [
    "## X_train, y_train"
   ]
  },
  {
   "cell_type": "code",
   "execution_count": 19,
   "id": "f117e7c7",
   "metadata": {},
   "outputs": [],
   "source": [
    "X_train_cat = df_diamonds_train.copy()\n",
    "delete_column(X_train_cat, \"price\")\n",
    "delete_column(X_train_cat, \"index_id\")\n",
    "y_train_cat = df_diamonds_train[\"price\"]"
   ]
  },
  {
   "cell_type": "code",
   "execution_count": 20,
   "id": "11785b71",
   "metadata": {},
   "outputs": [],
   "source": [
    "X_train_cat[[\"cut\",\"color\",\"clarity\",\"city\"]] = X_train_cat[[\"cut\",\"color\",\"clarity\",\"city\"]].astype(\"category\")\n",
    "\n",
    "X_train_cat[\"cut\"] = X_train_cat[\"cut\"].cat.codes\n",
    "X_train_cat[\"color\"] = X_train_cat[\"color\"].cat.codes\n",
    "X_train_cat[\"clarity\"] = X_train_cat[\"clarity\"].cat.codes\n",
    "X_train_cat[\"city\"] = X_train_cat[\"city\"].cat.codes"
   ]
  },
  {
   "cell_type": "code",
   "execution_count": 21,
   "id": "6ba0db48",
   "metadata": {},
   "outputs": [],
   "source": [
    "X_train_cat[\"carat\"] = X_train_cat[\"carat\"]*1000\n",
    "X_train_cat[\"x\"] = X_train_cat[\"x\"]*10\n",
    "X_train_cat[\"y\"] = X_train_cat[\"y\"]*10\n",
    "X_train_cat[\"z\"] = X_train_cat[\"z\"]*10"
   ]
  },
  {
   "cell_type": "code",
   "execution_count": 22,
   "id": "28b792d0",
   "metadata": {},
   "outputs": [],
   "source": [
    "X_train_cat[\"cut\"] = X_train_cat[\"cut\"]*10\n",
    "X_train_cat[\"color\"] = X_train_cat[\"color\"]*10\n",
    "X_train_cat[\"clarity\"] = X_train_cat[\"clarity\"]*10\n",
    "X_train_cat[\"city\"] = X_train_cat[\"city\"]*10"
   ]
  },
  {
   "cell_type": "markdown",
   "id": "b8752151",
   "metadata": {},
   "source": [
    "####  scaling - X_train"
   ]
  },
  {
   "cell_type": "markdown",
   "id": "e281e586",
   "metadata": {},
   "source": [
    "from sklearn.preprocessing import StandardScaler\n",
    "X_train_columns = X_train.columns.tolist()\n",
    "train_scaled = StandardScaler()\n",
    "train_scaled_fit = train_scaled.fit_transform(X_train[X_train_columns])\n",
    "X_train_scaled = pd.DataFrame(train_scaled_fit, columns = X_train_columns)\n",
    "X_train_scaled.head()"
   ]
  },
  {
   "cell_type": "code",
   "execution_count": null,
   "id": "ac82ff05",
   "metadata": {},
   "outputs": [],
   "source": []
  },
  {
   "cell_type": "markdown",
   "id": "c5b4d668",
   "metadata": {},
   "source": [
    "## X_test"
   ]
  },
  {
   "cell_type": "code",
   "execution_count": 23,
   "id": "8061a7af",
   "metadata": {},
   "outputs": [
    {
     "data": {
      "text/html": [
       "<div>\n",
       "<style scoped>\n",
       "    .dataframe tbody tr th:only-of-type {\n",
       "        vertical-align: middle;\n",
       "    }\n",
       "\n",
       "    .dataframe tbody tr th {\n",
       "        vertical-align: top;\n",
       "    }\n",
       "\n",
       "    .dataframe thead th {\n",
       "        text-align: right;\n",
       "    }\n",
       "</style>\n",
       "<table border=\"1\" class=\"dataframe\">\n",
       "  <thead>\n",
       "    <tr style=\"text-align: right;\">\n",
       "      <th></th>\n",
       "      <th>carat</th>\n",
       "      <th>cut</th>\n",
       "      <th>color</th>\n",
       "      <th>clarity</th>\n",
       "      <th>depth</th>\n",
       "      <th>table</th>\n",
       "      <th>x</th>\n",
       "      <th>y</th>\n",
       "      <th>z</th>\n",
       "      <th>city</th>\n",
       "    </tr>\n",
       "  </thead>\n",
       "  <tbody>\n",
       "    <tr>\n",
       "      <th>0</th>\n",
       "      <td>0.79</td>\n",
       "      <td>Very Good</td>\n",
       "      <td>F</td>\n",
       "      <td>SI1</td>\n",
       "      <td>62.7</td>\n",
       "      <td>60.0</td>\n",
       "      <td>5.82</td>\n",
       "      <td>5.89</td>\n",
       "      <td>3.67</td>\n",
       "      <td>Amsterdam</td>\n",
       "    </tr>\n",
       "    <tr>\n",
       "      <th>1</th>\n",
       "      <td>1.20</td>\n",
       "      <td>Ideal</td>\n",
       "      <td>J</td>\n",
       "      <td>VS1</td>\n",
       "      <td>61.0</td>\n",
       "      <td>57.0</td>\n",
       "      <td>6.81</td>\n",
       "      <td>6.89</td>\n",
       "      <td>4.18</td>\n",
       "      <td>Surat</td>\n",
       "    </tr>\n",
       "    <tr>\n",
       "      <th>2</th>\n",
       "      <td>1.57</td>\n",
       "      <td>Premium</td>\n",
       "      <td>H</td>\n",
       "      <td>SI1</td>\n",
       "      <td>62.2</td>\n",
       "      <td>61.0</td>\n",
       "      <td>7.38</td>\n",
       "      <td>7.32</td>\n",
       "      <td>4.57</td>\n",
       "      <td>Kimberly</td>\n",
       "    </tr>\n",
       "    <tr>\n",
       "      <th>3</th>\n",
       "      <td>0.90</td>\n",
       "      <td>Very Good</td>\n",
       "      <td>F</td>\n",
       "      <td>SI1</td>\n",
       "      <td>63.8</td>\n",
       "      <td>54.0</td>\n",
       "      <td>6.09</td>\n",
       "      <td>6.13</td>\n",
       "      <td>3.90</td>\n",
       "      <td>Kimberly</td>\n",
       "    </tr>\n",
       "    <tr>\n",
       "      <th>4</th>\n",
       "      <td>0.50</td>\n",
       "      <td>Very Good</td>\n",
       "      <td>F</td>\n",
       "      <td>VS1</td>\n",
       "      <td>62.9</td>\n",
       "      <td>58.0</td>\n",
       "      <td>5.05</td>\n",
       "      <td>5.09</td>\n",
       "      <td>3.19</td>\n",
       "      <td>Amsterdam</td>\n",
       "    </tr>\n",
       "    <tr>\n",
       "      <th>...</th>\n",
       "      <td>...</td>\n",
       "      <td>...</td>\n",
       "      <td>...</td>\n",
       "      <td>...</td>\n",
       "      <td>...</td>\n",
       "      <td>...</td>\n",
       "      <td>...</td>\n",
       "      <td>...</td>\n",
       "      <td>...</td>\n",
       "      <td>...</td>\n",
       "    </tr>\n",
       "    <tr>\n",
       "      <th>13480</th>\n",
       "      <td>0.57</td>\n",
       "      <td>Ideal</td>\n",
       "      <td>E</td>\n",
       "      <td>SI1</td>\n",
       "      <td>61.9</td>\n",
       "      <td>56.0</td>\n",
       "      <td>5.35</td>\n",
       "      <td>5.32</td>\n",
       "      <td>3.30</td>\n",
       "      <td>Amsterdam</td>\n",
       "    </tr>\n",
       "    <tr>\n",
       "      <th>13481</th>\n",
       "      <td>0.71</td>\n",
       "      <td>Ideal</td>\n",
       "      <td>I</td>\n",
       "      <td>VS2</td>\n",
       "      <td>62.2</td>\n",
       "      <td>55.0</td>\n",
       "      <td>5.71</td>\n",
       "      <td>5.73</td>\n",
       "      <td>3.56</td>\n",
       "      <td>New York City</td>\n",
       "    </tr>\n",
       "    <tr>\n",
       "      <th>13482</th>\n",
       "      <td>0.70</td>\n",
       "      <td>Ideal</td>\n",
       "      <td>F</td>\n",
       "      <td>VS1</td>\n",
       "      <td>61.6</td>\n",
       "      <td>55.0</td>\n",
       "      <td>5.75</td>\n",
       "      <td>5.71</td>\n",
       "      <td>3.53</td>\n",
       "      <td>Tel Aviv</td>\n",
       "    </tr>\n",
       "    <tr>\n",
       "      <th>13483</th>\n",
       "      <td>0.70</td>\n",
       "      <td>Very Good</td>\n",
       "      <td>F</td>\n",
       "      <td>SI2</td>\n",
       "      <td>58.8</td>\n",
       "      <td>57.0</td>\n",
       "      <td>5.85</td>\n",
       "      <td>5.89</td>\n",
       "      <td>3.45</td>\n",
       "      <td>Surat</td>\n",
       "    </tr>\n",
       "    <tr>\n",
       "      <th>13484</th>\n",
       "      <td>0.40</td>\n",
       "      <td>Ideal</td>\n",
       "      <td>I</td>\n",
       "      <td>VVS2</td>\n",
       "      <td>62.4</td>\n",
       "      <td>55.0</td>\n",
       "      <td>4.70</td>\n",
       "      <td>4.73</td>\n",
       "      <td>2.94</td>\n",
       "      <td>New York City</td>\n",
       "    </tr>\n",
       "  </tbody>\n",
       "</table>\n",
       "<p>13485 rows × 10 columns</p>\n",
       "</div>"
      ],
      "text/plain": [
       "       carat        cut color clarity  depth  table     x     y     z  \\\n",
       "0       0.79  Very Good     F     SI1   62.7   60.0  5.82  5.89  3.67   \n",
       "1       1.20      Ideal     J     VS1   61.0   57.0  6.81  6.89  4.18   \n",
       "2       1.57    Premium     H     SI1   62.2   61.0  7.38  7.32  4.57   \n",
       "3       0.90  Very Good     F     SI1   63.8   54.0  6.09  6.13  3.90   \n",
       "4       0.50  Very Good     F     VS1   62.9   58.0  5.05  5.09  3.19   \n",
       "...      ...        ...   ...     ...    ...    ...   ...   ...   ...   \n",
       "13480   0.57      Ideal     E     SI1   61.9   56.0  5.35  5.32  3.30   \n",
       "13481   0.71      Ideal     I     VS2   62.2   55.0  5.71  5.73  3.56   \n",
       "13482   0.70      Ideal     F     VS1   61.6   55.0  5.75  5.71  3.53   \n",
       "13483   0.70  Very Good     F     SI2   58.8   57.0  5.85  5.89  3.45   \n",
       "13484   0.40      Ideal     I    VVS2   62.4   55.0  4.70  4.73  2.94   \n",
       "\n",
       "                city  \n",
       "0          Amsterdam  \n",
       "1              Surat  \n",
       "2           Kimberly  \n",
       "3           Kimberly  \n",
       "4          Amsterdam  \n",
       "...              ...  \n",
       "13480      Amsterdam  \n",
       "13481  New York City  \n",
       "13482       Tel Aviv  \n",
       "13483          Surat  \n",
       "13484  New York City  \n",
       "\n",
       "[13485 rows x 10 columns]"
      ]
     },
     "execution_count": 23,
     "metadata": {},
     "output_type": "execute_result"
    }
   ],
   "source": [
    "X_test = df_diamonds_test.copy()\n",
    "delete_column(X_test, \"id\")\n",
    "X_test"
   ]
  },
  {
   "cell_type": "code",
   "execution_count": 24,
   "id": "f7082e81",
   "metadata": {},
   "outputs": [],
   "source": [
    "X_test[[\"cut\",\"color\",\"clarity\",\"city\"]] = X_test[[\"cut\",\"color\",\"clarity\",\"city\"]].astype(\"category\")\n",
    "\n",
    "X_test[\"cut\"] = X_test[\"cut\"].cat.codes\n",
    "X_test[\"color\"] = X_test[\"color\"].cat.codes\n",
    "X_test[\"clarity\"] = X_test[\"clarity\"].cat.codes\n",
    "X_test[\"city\"] = X_test[\"city\"].cat.codes"
   ]
  },
  {
   "cell_type": "code",
   "execution_count": 25,
   "id": "fa60bad1",
   "metadata": {},
   "outputs": [],
   "source": [
    "X_test[\"carat\"] = X_test[\"carat\"]*1000\n",
    "X_test[\"x\"] = X_test[\"x\"]*10\n",
    "X_test[\"y\"] = X_test[\"y\"]*10\n",
    "X_test[\"z\"] = X_test[\"z\"]*10"
   ]
  },
  {
   "cell_type": "code",
   "execution_count": 26,
   "id": "71f5facf",
   "metadata": {},
   "outputs": [],
   "source": [
    "X_test[\"cut\"] = X_test[\"cut\"]*10\n",
    "X_test[\"color\"] = X_test[\"color\"]*10\n",
    "X_test[\"clarity\"] = X_test[\"clarity\"]*10\n",
    "X_test[\"city\"] = X_test[\"city\"]*10"
   ]
  },
  {
   "cell_type": "markdown",
   "id": "00de301e",
   "metadata": {},
   "source": [
    "####  scaling - X_test"
   ]
  },
  {
   "cell_type": "markdown",
   "id": "46c4672c",
   "metadata": {},
   "source": [
    "X_test_columns = X_test.columns.tolist()\n",
    "train_scaled = StandardScaler()\n",
    "train_scaled_fit = train_scaled.fit_transform(X_test[X_test_columns])\n",
    "X_test_scaled = pd.DataFrame(train_scaled_fit, columns = X_test_columns)\n",
    "X_test_scaled.head()"
   ]
  },
  {
   "cell_type": "code",
   "execution_count": null,
   "id": "08765e4f",
   "metadata": {},
   "outputs": [],
   "source": []
  },
  {
   "cell_type": "markdown",
   "id": "c6a4c1c8",
   "metadata": {},
   "source": [
    "## MODEL"
   ]
  },
  {
   "cell_type": "code",
   "execution_count": 27,
   "id": "418c917e",
   "metadata": {},
   "outputs": [],
   "source": [
    "#from sklearn import linear_model\n",
    "from sklearn.ensemble import RandomForestRegressor\n",
    "model = RandomForestRegressor()\n",
    "model.fit(X_train_cat, y_train_cat)\n",
    "predictions = model.predict(X_test).clip(350,18000)\n",
    "id_predictions = [i for i in range(0,len(predictions))]\n",
    "predictions_df = pd.DataFrame({\"id\":id_predictions , \"price\":predictions })\n",
    "predictions_df.head()\n",
    "predictions_df.to_csv(\"all_variables_cat_codes_manual_escaling_all_vars_maspesocarat.csv\", sep=\",\", index=False)"
   ]
  },
  {
   "cell_type": "code",
   "execution_count": null,
   "id": "8a9eb62a",
   "metadata": {},
   "outputs": [],
   "source": []
  }
 ],
 "metadata": {
  "kernelspec": {
   "display_name": "Python [conda env:scikit]",
   "language": "python",
   "name": "conda-env-scikit-py"
  },
  "language_info": {
   "codemirror_mode": {
    "name": "ipython",
    "version": 3
   },
   "file_extension": ".py",
   "mimetype": "text/x-python",
   "name": "python",
   "nbconvert_exporter": "python",
   "pygments_lexer": "ipython3",
   "version": "3.7.12"
  }
 },
 "nbformat": 4,
 "nbformat_minor": 5
}
